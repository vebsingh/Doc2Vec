{
 "cells": [
  {
   "cell_type": "code",
   "execution_count": 1,
   "metadata": {},
   "outputs": [
    {
     "name": "stdout",
     "output_type": "stream",
     "text": [
      "Requirement already satisfied: gensim in /home/ec2-user/anaconda3/envs/tensorflow_p27/lib/python2.7/site-packages (3.7.3)\n",
      "Requirement already satisfied: smart-open>=1.7.0 in /home/ec2-user/anaconda3/envs/tensorflow_p27/lib/python2.7/site-packages (from gensim) (1.8.4)\n",
      "Requirement already satisfied: six>=1.5.0 in /home/ec2-user/anaconda3/envs/tensorflow_p27/lib/python2.7/site-packages (from gensim) (1.11.0)\n",
      "Requirement already satisfied: scipy>=0.18.1 in /home/ec2-user/anaconda3/envs/tensorflow_p27/lib/python2.7/site-packages (from gensim) (1.1.0)\n",
      "Requirement already satisfied: numpy>=1.11.3 in /home/ec2-user/anaconda3/envs/tensorflow_p27/lib/python2.7/site-packages (from gensim) (1.15.4)\n",
      "Requirement already satisfied: boto>=2.32 in /home/ec2-user/anaconda3/envs/tensorflow_p27/lib/python2.7/site-packages (from smart-open>=1.7.0->gensim) (2.48.0)\n",
      "Requirement already satisfied: requests in /home/ec2-user/anaconda3/envs/tensorflow_p27/lib/python2.7/site-packages (from smart-open>=1.7.0->gensim) (2.20.0)\n",
      "Requirement already satisfied: bz2file in /home/ec2-user/anaconda3/envs/tensorflow_p27/lib/python2.7/site-packages (from smart-open>=1.7.0->gensim) (0.98)\n",
      "Requirement already satisfied: boto3 in /home/ec2-user/anaconda3/envs/tensorflow_p27/lib/python2.7/site-packages (from smart-open>=1.7.0->gensim) (1.9.160)\n",
      "Requirement already satisfied: idna<2.8,>=2.5 in /home/ec2-user/anaconda3/envs/tensorflow_p27/lib/python2.7/site-packages (from requests->smart-open>=1.7.0->gensim) (2.6)\n",
      "Requirement already satisfied: chardet<3.1.0,>=3.0.2 in /home/ec2-user/anaconda3/envs/tensorflow_p27/lib/python2.7/site-packages (from requests->smart-open>=1.7.0->gensim) (3.0.4)\n",
      "Requirement already satisfied: urllib3<1.25,>=1.21.1 in /home/ec2-user/anaconda3/envs/tensorflow_p27/lib/python2.7/site-packages (from requests->smart-open>=1.7.0->gensim) (1.23)\n",
      "Requirement already satisfied: certifi>=2017.4.17 in /home/ec2-user/anaconda3/envs/tensorflow_p27/lib/python2.7/site-packages (from requests->smart-open>=1.7.0->gensim) (2019.3.9)\n",
      "Requirement already satisfied: jmespath<1.0.0,>=0.7.1 in /home/ec2-user/anaconda3/envs/tensorflow_p27/lib/python2.7/site-packages (from boto3->smart-open>=1.7.0->gensim) (0.9.4)\n",
      "Requirement already satisfied: botocore<1.13.0,>=1.12.160 in /home/ec2-user/anaconda3/envs/tensorflow_p27/lib/python2.7/site-packages (from boto3->smart-open>=1.7.0->gensim) (1.12.160)\n",
      "Requirement already satisfied: s3transfer<0.3.0,>=0.2.0 in /home/ec2-user/anaconda3/envs/tensorflow_p27/lib/python2.7/site-packages (from boto3->smart-open>=1.7.0->gensim) (0.2.0)\n",
      "Requirement already satisfied: docutils>=0.10 in /home/ec2-user/anaconda3/envs/tensorflow_p27/lib/python2.7/site-packages (from botocore<1.13.0,>=1.12.160->boto3->smart-open>=1.7.0->gensim) (0.14)\n",
      "Requirement already satisfied: python-dateutil<3.0.0,>=2.1; python_version >= \"2.7\" in /home/ec2-user/anaconda3/envs/tensorflow_p27/lib/python2.7/site-packages (from botocore<1.13.0,>=1.12.160->boto3->smart-open>=1.7.0->gensim) (2.7.3)\n",
      "Requirement already satisfied: futures<4.0.0,>=2.2.0; python_version == \"2.6\" or python_version == \"2.7\" in /home/ec2-user/anaconda3/envs/tensorflow_p27/lib/python2.7/site-packages (from s3transfer<0.3.0,>=0.2.0->boto3->smart-open>=1.7.0->gensim) (3.2.0)\n",
      "\u001b[33mYou are using pip version 10.0.1, however version 19.1.1 is available.\n",
      "You should consider upgrading via the 'pip install --upgrade pip' command.\u001b[0m\n"
     ]
    }
   ],
   "source": [
    "!pip install gensim\n",
    "# imports needed and set up logging\n",
    "import gzip\n",
    "import gensim \n",
    "import logging"
   ]
  },
  {
   "cell_type": "code",
   "execution_count": 2,
   "metadata": {},
   "outputs": [],
   "source": [
    "from gensim.models.doc2vec import Doc2Vec, TaggedDocument\n",
    "from nltk.tokenize import word_tokenize"
   ]
  },
  {
   "cell_type": "code",
   "execution_count": 3,
   "metadata": {},
   "outputs": [
    {
     "name": "stdout",
     "output_type": "stream",
     "text": [
      "[nltk_data] Downloading package punkt to /home/ec2-user/nltk_data...\n",
      "[nltk_data]   Package punkt is already up-to-date!\n"
     ]
    },
    {
     "data": {
      "text/plain": [
       "True"
      ]
     },
     "execution_count": 3,
     "metadata": {},
     "output_type": "execute_result"
    }
   ],
   "source": [
    "import pandas as pd\n",
    "import matplotlib.pyplot as plt\n",
    "import numpy as np\n",
    "import nltk\n",
    "nltk.download('punkt')"
   ]
  },
  {
   "cell_type": "code",
   "execution_count": 4,
   "metadata": {},
   "outputs": [],
   "source": [
    "import sys\n",
    "stdout = sys.stdout\n",
    "reload(sys)\n",
    "sys.setdefaultencoding('latin-1')\n",
    "sys.stdout = stdout"
   ]
  },
  {
   "cell_type": "code",
   "execution_count": 5,
   "metadata": {},
   "outputs": [],
   "source": [
    "my_data = pd.read_csv('Dice_US_jobs.csv')"
   ]
  },
  {
   "cell_type": "code",
   "execution_count": 6,
   "metadata": {},
   "outputs": [],
   "source": [
    "job_desc = my_data['job_description']\n",
    "job_title = my_data['job_title']"
   ]
  },
  {
   "cell_type": "code",
   "execution_count": 7,
   "metadata": {},
   "outputs": [
    {
     "name": "stdout",
     "output_type": "stream",
     "text": [
      "0                                              EDI Analyst\n",
      "1                                Informatica ETL Developer\n",
      "2                                        Angular developer\n",
      "3                   Microsoft Dynamics AX, Project Manager\n",
      "4                                       Software Developer\n",
      "5                                Machine Learning Engineer\n",
      "6                                      Core Java Developer\n",
      "7                               Linux System Administrator\n",
      "8                                       Commission Analyst\n",
      "9                                         Drupal Developer\n",
      "10              SQL/SSIS Developer (AWS Migration Project)\n",
      "11          PMO (for Purchase to Pay Support) OR Purchaser\n",
      "12                                   Senior .NET Developer\n",
      "13                          Field Service Technician II US\n",
      "14                           Software Development Engineer\n",
      "15                  Business Operations /Financial Analyst\n",
      "16                              Personalization Specialist\n",
      "17          SAP Ariba Consultant (Supply Chain Capability)\n",
      "18                                       MONGOdb and  JAVA\n",
      "19                                       Software Engineer\n",
      "20                                    System Administrator\n",
      "21                                                    CCIE\n",
      "22                                          Java Developer\n",
      "23                                        Systems Engineer\n",
      "24                                          .Net Developer\n",
      "25                    Transition Specialist Representative\n",
      "26                           Senior Build Release engineer\n",
      "27                                         Web/Backend Dev\n",
      "28                                    Junior PHP Developer\n",
      "29                    IT Manager/Sr. Network Administrator\n",
      "                               ...                        \n",
      "21888                                    Node.js Architect\n",
      "21889                                      Project Manager\n",
      "21890                                         Android SDET\n",
      "21891                                              SQL DBA\n",
      "21892                                     Network Engineer\n",
      "21893                               Senior DevOps Engineer\n",
      "21894                    Senior Build and Release Engineer\n",
      "21895                               Applications Developer\n",
      "21896                                              SQL DBA\n",
      "21897                                       Sales Engineer\n",
      "21898                            Full Stack .NET Developer\n",
      "21899                                  Electrical Engineer\n",
      "21900                                    Territory Manager\n",
      "21901                                                  Mid\n",
      "21902                                    Software Engineer\n",
      "21903                     Editorial Strategist (Bilingual)\n",
      "21904                                   Quality Engineer V\n",
      "21905                                    Automation Tester\n",
      "21906                    Angular Developer (Will Relocate)\n",
      "21907                               Senior DevOps Engineer\n",
      "21908                                Senior Java Developer\n",
      "21909                                                  Mid\n",
      "21910                                     Python Developer\n",
      "21911                              Jr. Linux Administrator\n",
      "21912                                 Lead Devops Engineer\n",
      "21913          Front End Engineer (Angular, Will Relocate)\n",
      "21914                          Need Salesforce Delivery PM\n",
      "21915                                 Remote Web Developer\n",
      "21916    Senior Ruby on Rails Software Developer (100% ...\n",
      "21917                                    Security Engineer\n",
      "Name: job_title, Length: 21918, dtype: object\n"
     ]
    }
   ],
   "source": [
    "print(job_title)"
   ]
  },
  {
   "cell_type": "code",
   "execution_count": 8,
   "metadata": {},
   "outputs": [
    {
     "name": "stdout",
     "output_type": "stream",
     "text": [
      "veb\n"
     ]
    }
   ],
   "source": [
    "print 'veb'"
   ]
  },
  {
   "cell_type": "code",
   "execution_count": 9,
   "metadata": {},
   "outputs": [],
   "source": [
    "tagged_data = [TaggedDocument(words=word_tokenize(_d.lower()), tags=str(i+2)) for i, _d in enumerate(job_desc)]\n",
    "tagged_data_title = [TaggedDocument(words=word_tokenize(_d.lower()), tags=str(i+2)) for i, _d in enumerate(job_title)]\n"
   ]
  },
  {
   "cell_type": "code",
   "execution_count": 10,
   "metadata": {},
   "outputs": [
    {
     "name": "stdout",
     "output_type": "stream",
     "text": [
      "TaggedDocument(['minimum', 'required', 'skills', ':', 'edi', ',', 'trustedlink', ',', 'as2', ',', 'vanif', 'you', 'are', 'an', 'edi', 'analyst', 'with', 'experience', ',', 'please', 'read', 'on', '!', 'we', 'are', 'a', 'strong', ',', 'long', 'standing', 'company', 'looking', 'for', 'an', 'edi', 'analyst', 'for', 'our', 'team', '.', 'you', 'must', 'have', '3+', 'years', 'of', 'edi', 'experience', 'in', 'a', 'trustedlink', 'for', 'i', 'environment', '.', 'your', 'role', 'will', 'work', 'with', 'our', 'finance', 'department', 'identifying', 'trading', 'partners', ',', 'work', 'closely', 'with', 'external', 'customers', 'and', 'be', 'the', 'edi', 'liaison', 'across', 'the', 'company', '.', 'you', 'will', 'also', 'monitor', 'as2', 'and', 'van', 'communications', ',', 'correct', 'errors', 'and', 'incoming', 'data.what', 'you', 'need', 'for', 'this', 'positionrequirements:3+', 'years', 'of', 'edi', 'experience3+', 'years', 'of', 'trustedlink', 'for', 'i', 'experience', ',', 'iseries/as400experience', 'with', 'van', 'and', 'as2', 'communicationswhat', \"'s\", 'in', 'it', 'for', 'youwe', 'offer', 'a', 'strong', 'compensation', 'package', 'and', 'benefits', '!', 'local', 'candidates', 'only', 'please.so', ',', 'if', 'you', 'are', 'an', 'edi', 'analyst', 'with', 'experience', ',', 'please', 'apply', 'today', '!', 'applicants', 'must', 'be', 'authorized', 'to', 'work', 'in', 'the', 'u.s.please', 'apply', 'directly', 'to', 'by', 'clicking', \"'click\", 'here', 'to', 'apply', \"'\", 'with', 'your', 'word', 'resume', '!', 'looking', 'forward', 'to', 'receiving', 'your', 'resume', 'and', 'going', 'over', 'the', 'position', 'in', 'more', 'detail', 'with', 'you.-', 'not', 'a', 'fit', 'for', 'this', 'position', '?', 'click', 'the', 'link', 'at', 'the', 'bottom', 'of', 'this', 'email', 'to', 'search', 'all', 'of', 'our', 'open', 'positions.looking', 'forward', 'to', 'receiving', 'your', 'resume', '!', 'cybercoderscybercoders', ',', 'inc', 'is', 'proud', 'to', 'be', 'an', 'equal', 'opportunity', 'employerall', 'qualified', 'applicants', 'will', 'receive', 'consideration', 'for', 'employment', 'without', 'regard', 'to', 'race', ',', 'color', ',', 'religion', ',', 'sex', ',', 'national', 'origin', ',', 'disability', ',', 'protected', 'veteran', 'status', ',', 'or', 'any', 'other', 'characteristic', 'protected', 'by', 'law.your', 'right', 'to', 'work', '-', 'in', 'compliance', 'with', 'federal', 'law', ',', 'all', 'persons', 'hired', 'will', 'be', 'required', 'to', 'verify', 'identity', 'and', 'eligibility', 'to', 'work', 'in', 'the', 'united', 'states', 'and', 'to', 'complete', 'the', 'required', 'employment', 'eligibility', 'verification', 'document', 'form', 'upon', 'hire.copyright', '\\xe5\\xa9', '1999', '-', '2016', '.', 'cybercoders', ',', 'inc.', 'all', 'rights', 'reserved', '.'], 2)\n"
     ]
    }
   ],
   "source": [
    "print(tagged_data[0])"
   ]
  },
  {
   "cell_type": "code",
   "execution_count": 11,
   "metadata": {},
   "outputs": [
    {
     "name": "stdout",
     "output_type": "stream",
     "text": [
      "TaggedDocument(['informatica\\xe5\\xca/', 'etl', 'developerst', ',', 'petersburg', ',', 'fl', 'only', 'full', 'time', '/', 'direct', 'hires\\xe5\\xcamultiple', 'positions.\\xe5\\xcarequirements5+', 'years\\x89\\xdb\\xaa', 'experience', 'as', 'a', 'di', '/', 'etl', 'developerinformatica', 'power', 'center', 'or', 'similar', 'etl/di', 'toolinformatica', 'b2b', 'data', 'exchange', 'or', 'similar', 'soa', 'toolunix/linux', 'operating', 'system', 'and', 'scripting', 'languagedatabases', '(', 'netezza', ',', 'oracle', ',', 'mysql', ')', ',', 'sqldata', 'warehousing', 'experiencestrong', 'analytical', 'skills', 'and', 'presentation', 'skill\\xe5\\xcadesired', ':', 'experience', 'with', 'database', 'administration', ',', 'working', 'with', 'front-end', 'tools', ',', 'reporting', 'tools', ',', 'etc.c', ',', 'java', ',', 'c++', ',', 'c', '#', ',', 'or', 'similar', 'programming', 'languagegood', 'understanding', 'of', 'and', 'experience', 'with', 'application', 'interfaces', '(', 'eai', ')', ',', 'business-to-business', 'interfaces', '(', 'b2b', ')', ',', 'master', 'data', 'management', '(', 'mdm', ')'], 3)\n"
     ]
    }
   ],
   "source": [
    "print(tagged_data[1])"
   ]
  },
  {
   "cell_type": "code",
   "execution_count": 12,
   "metadata": {},
   "outputs": [
    {
     "name": "stdout",
     "output_type": "stream",
     "text": [
      "TaggedDocument(['informatica', 'etl', 'developer'], 3)\n"
     ]
    }
   ],
   "source": [
    "print(tagged_data_title[1])"
   ]
  },
  {
   "cell_type": "code",
   "execution_count": 13,
   "metadata": {},
   "outputs": [],
   "source": [
    "max_epochs = 10\n",
    "vec_size = 20\n",
    "alpha = 0.025\n",
    "\n",
    "model = Doc2Vec(size=vec_size,\n",
    "                alpha=alpha, \n",
    "                min_alpha=0.00025,\n",
    "                min_count=1,\n",
    "                dm =1)"
   ]
  },
  {
   "cell_type": "code",
   "execution_count": 14,
   "metadata": {},
   "outputs": [],
   "source": [
    "model_title = Doc2Vec(size=vec_size,\n",
    "                alpha=alpha, \n",
    "                min_alpha=0.00025,\n",
    "                min_count=1,\n",
    "                dm =1)"
   ]
  },
  {
   "cell_type": "code",
   "execution_count": 15,
   "metadata": {},
   "outputs": [],
   "source": [
    "model.build_vocab(tagged_data)"
   ]
  },
  {
   "cell_type": "code",
   "execution_count": 16,
   "metadata": {},
   "outputs": [],
   "source": [
    "model_title.build_vocab(tagged_data_title)"
   ]
  },
  {
   "cell_type": "code",
   "execution_count": 19,
   "metadata": {},
   "outputs": [
    {
     "name": "stdout",
     "output_type": "stream",
     "text": [
      "iteration 0\n",
      "iteration 1\n",
      "iteration 2\n",
      "iteration 3\n",
      "iteration 4\n",
      "iteration 5\n",
      "iteration 6\n",
      "iteration 7\n",
      "iteration 8\n",
      "iteration 9\n"
     ]
    }
   ],
   "source": [
    "for epoch in range(max_epochs):\n",
    "    print('iteration {0}'.format(epoch))\n",
    "    model.train(tagged_data,\n",
    "                total_examples=model.corpus_count,\n",
    "                epochs=model.iter)\n",
    "    # decrease the learning rate\n",
    "    model.alpha -= 0.0002\n",
    "    # fix the learning rate, no decay\n",
    "    model.min_alpha = model.alpha"
   ]
  },
  {
   "cell_type": "code",
   "execution_count": 21,
   "metadata": {},
   "outputs": [
    {
     "name": "stdout",
     "output_type": "stream",
     "text": [
      "iteration 0\n",
      "iteration 1\n",
      "iteration 2\n",
      "iteration 3\n",
      "iteration 4\n",
      "iteration 5\n",
      "iteration 6\n",
      "iteration 7\n",
      "iteration 8\n",
      "iteration 9\n"
     ]
    }
   ],
   "source": [
    "for epoch in range(max_epochs):\n",
    "    print('iteration {0}'.format(epoch))\n",
    "    model_title.train(tagged_data_title,\n",
    "                total_examples=model_title.corpus_count,\n",
    "                epochs=model_title.iter)\n",
    "    # decrease the learning rate\n",
    "    model_title.alpha -= 0.0002\n",
    "    # fix the learning rate, no decay\n",
    "    model_title.min_alpha = model_title.alpha"
   ]
  },
  {
   "cell_type": "code",
   "execution_count": 22,
   "metadata": {},
   "outputs": [
    {
     "name": "stdout",
     "output_type": "stream",
     "text": [
      "Model Saved\n"
     ]
    }
   ],
   "source": [
    "model.save(\"d2v.model\")\n",
    "print(\"Model Saved\")"
   ]
  },
  {
   "cell_type": "code",
   "execution_count": 23,
   "metadata": {},
   "outputs": [
    {
     "name": "stdout",
     "output_type": "stream",
     "text": [
      "Model for titles Saved\n"
     ]
    }
   ],
   "source": [
    "model_title.save(\"d2v.model_title\")\n",
    "print(\"Model for titles Saved\")"
   ]
  },
  {
   "cell_type": "code",
   "execution_count": 24,
   "metadata": {},
   "outputs": [
    {
     "name": "stdout",
     "output_type": "stream",
     "text": [
      "('V1_infer', array([ 0.0555506 , -0.10833402,  0.00813404,  0.03485231, -0.01187643,\n",
      "        0.01840801, -0.01999972,  0.08018431, -0.08109498, -0.04349826,\n",
      "       -0.0538635 , -0.1712014 , -0.01463915, -0.0760724 ,  0.07587072,\n",
      "       -0.08292493, -0.00521852, -0.03223275,  0.16619174,  0.01880893],\n",
      "      dtype=float32))\n",
      "[('9', 0.7003251910209656), ('4', 0.6763580441474915), ('0', 0.6638453006744385), ('2', 0.6253113746643066), ('3', 0.6047626733779907), ('5', 0.49672964215278625), ('8', 0.36065495014190674), ('7', 0.3395025134086609), ('6', 0.3089142441749573)]\n",
      "[ 0.6847718  -0.5271424  -0.5395571   0.82014644  0.06762365 -0.07112449\n",
      "  0.5949171  -0.7630067   0.00775762 -1.0395869  -0.70201963 -0.78148293\n",
      "  0.06433814  0.44189602  0.3176486   0.00379295 -0.9116093   0.09204914\n",
      "  0.57554734  0.7465193 ]\n"
     ]
    }
   ],
   "source": [
    "from gensim.models.doc2vec import Doc2Vec\n",
    "\n",
    "model= Doc2Vec.load(\"d2v.model\")\n",
    "#to find the vector of a document which is not in training data\n",
    "test_data = word_tokenize(\"MicroSoft Developer\".lower())\n",
    "v1 = model.infer_vector(test_data)\n",
    "print(\"V1_infer\", v1)\n",
    "\n",
    "# to find most similar doc using tags\n",
    "similar_doc = model.docvecs.most_similar('1')\n",
    "print(similar_doc)\n",
    "\n",
    "\n",
    "# to find vector of doc in training data using tags or in other words, printing the vector of document at index 1 in training data\n",
    "print(model.docvecs['1'])"
   ]
  },
  {
   "cell_type": "code",
   "execution_count": 25,
   "metadata": {},
   "outputs": [
    {
     "name": "stdout",
     "output_type": "stream",
     "text": [
      "('V1_infer_title', array([ 0.13581239,  0.00193259,  0.1424091 ,  0.00248774,  0.02124277,\n",
      "        0.07937463, -0.04372739, -0.06066316, -0.0668944 , -0.05166125,\n",
      "        0.00536358, -0.1516091 ,  0.00263714,  0.02058803, -0.00645919,\n",
      "       -0.04354644,  0.02408381,  0.05754795, -0.0595025 ,  0.10727924],\n",
      "      dtype=float32))\n",
      "[('9', 0.37865057587623596), ('8', 0.33610838651657104), ('3', 0.3124068081378937), ('4', 0.2467828392982483), ('6', 0.22245417535305023), ('7', 0.07133184373378754), ('2', 0.05462716519832611), ('0', -0.029577627778053284), ('5', -0.05206224322319031)]\n",
      "[ 2.4202425e+00  4.3471518e-01  6.6926557e-01  3.2471260e-04\n",
      "  2.3662013e-01  8.5768270e-01  2.0993671e+00 -5.4072481e-01\n",
      "  1.6125619e-01  7.7585566e-01 -4.8257637e-01 -1.1287794e+00\n",
      "  1.1175978e+00 -1.0449165e+00  5.2408242e-01  4.3808600e-01\n",
      " -8.7911606e-01  1.6899334e-02  7.5641286e-01  2.4969831e+00]\n"
     ]
    }
   ],
   "source": [
    "model_title= Doc2Vec.load(\"d2v.model_title\")\n",
    "#to find the vector of a document which is not in training data\n",
    "test_data_title = word_tokenize(\"MicroSoft Developer\".lower())\n",
    "v1_title = model_title.infer_vector(test_data_title)\n",
    "print(\"V1_infer_title\", v1_title)\n",
    "\n",
    "# to find most similar doc using tags\n",
    "similar_doc_title = model_title.docvecs.most_similar('1')\n",
    "print(similar_doc_title)\n",
    "\n",
    "\n",
    "# to find vector of doc in training data using tags or in other words, printing the vector of document at index 1 in training data\n",
    "print(model_title.docvecs['1'])"
   ]
  },
  {
   "cell_type": "code",
   "execution_count": 26,
   "metadata": {},
   "outputs": [
    {
     "name": "stdout",
     "output_type": "stream",
     "text": [
      "Informatica ETL Developer\n",
      "[('9', 0.7003251910209656), ('4', 0.6763580441474915), ('0', 0.6638453006744385), ('2', 0.6253113746643066), ('3', 0.6047626733779907), ('5', 0.49672964215278625), ('8', 0.36065495014190674), ('7', 0.3395025134086609), ('6', 0.3089142441749573)]\n"
     ]
    }
   ],
   "source": [
    "similar_doc = model.docvecs.most_similar('1',topn=200)\n",
    "print(job_title[1])\n",
    "print(similar_doc)"
   ]
  },
  {
   "cell_type": "code",
   "execution_count": 27,
   "metadata": {},
   "outputs": [
    {
     "name": "stdout",
     "output_type": "stream",
     "text": [
      "[('9', 0.37865057587623596), ('8', 0.33610838651657104), ('3', 0.3124068081378937), ('4', 0.2467828392982483), ('6', 0.22245417535305023), ('7', 0.07133184373378754), ('2', 0.05462716519832611), ('0', -0.029577627778053284), ('5', -0.05206224322319031)]\n"
     ]
    }
   ],
   "source": [
    "similar_doc_title = model_title.docvecs.most_similar('1',topn=200)\n",
    "print(similar_doc_title)"
   ]
  },
  {
   "cell_type": "code",
   "execution_count": 28,
   "metadata": {},
   "outputs": [],
   "source": [
    "#Printing just the similar titles"
   ]
  },
  {
   "cell_type": "code",
   "execution_count": 29,
   "metadata": {},
   "outputs": [
    {
     "name": "stdout",
     "output_type": "stream",
     "text": [
      "TaggedDocument(['drupal', 'developer'], 11)\n",
      "TaggedDocument(['commission', 'analyst'], 10)\n",
      "TaggedDocument(['microsoft', 'dynamics', 'ax', ',', 'project', 'manager'], 5)\n",
      "TaggedDocument(['software', 'developer'], 6)\n",
      "TaggedDocument(['core', 'java', 'developer'], 8)\n",
      "TaggedDocument(['linux', 'system', 'administrator'], 9)\n",
      "TaggedDocument(['angular', 'developer'], 4)\n",
      "TaggedDocument(['edi', 'analyst'], 2)\n",
      "TaggedDocument(['machine', 'learning', 'engineer'], 7)\n"
     ]
    }
   ],
   "source": [
    "for y in range(0,len(similar_doc_title)):\n",
    "    x = similar_doc_title[y][0]\n",
    "    print(tagged_data_title[int(x)])"
   ]
  },
  {
   "cell_type": "code",
   "execution_count": 30,
   "metadata": {},
   "outputs": [
    {
     "name": "stdout",
     "output_type": "stream",
     "text": [
      "('9', 'Drupal Developer')\n",
      "------------------\n",
      "TaggedDocument(['tranzeal', 'is', 'an', 'industry', 'leading', 'global', 'business', 'transformation', 'service', 'provider', 'offering', 'specific', 'consulting', 'services', 'as', 'well', 'as', 'pre-packaged', ',', 'industry', 'specific', 'solutions', 'and', 'services', 'to', 'companies', 'around', 'the', 'world', '.', 'our', 'consulting', 'services', 'are', 'dedicated', 'to', 'helping', 'our', 'clients', 'maximize', 'their', 'investments', 'in', 'it', 'and', 'the', 'overall', 'effectiveness', 'and', 'efficiency', 'of', 'the', 'business', '.', 'tranzeal\\x89\\xdb\\xaas', 'deep', 'industry', 'experience', 'makes', 'us', 'the', 'partner', 'of', 'choice', 'for', 'a', 'growing', 'number', 'of', 'fortune', '1000', 'companies', ',', 'midsize', 'enterprises', 'and', 'small', 'businesses', 'worldwide.we', 'are', 'currently', 'looking', 'for', \"'drupal\", 'developers', \"'\", 'to', 'support', 'one', 'of', 'our', 'clients', 'with', 'the', 'following', 'skills', ':', 'requirement', ':', 'job', 'title', ':', 'drupal', 'developerlocation', ':', 'sunnyvale', ',', 'caduration', ':', 'long', 'term', 'contractrate', ':', 'doeresponsibilities\\xe5\\xca\\x89\\xdb\\xa2', 'develop', 'and', 'maintain', 'a', 'drupal', 'based', 'ecommerce', 'site\\xe5\\xca\\x89\\xdb\\xa2', 'develop', 'custom', 'features', 'and', 'enhance', 'existing', 'modules\\xe5\\xca\\x89\\xdb\\xa2', 'setting', 'up', 'of', 'workflows', ',', 'acls\\xe5\\xca\\x89\\xdb\\xa2', 'manage', 'drupal', 'performance', ',', 'caching', ',', 'deployments', 'and', 'database\\xe5\\xca\\x89\\xdb\\xa2', 'manage', 'apache', 'solr', 'and', 'memcache', 'instance', 'for', 'caching', 'and', 'indexing', 'the', 'contents\\xe5\\xca\\x89\\xdb\\xa2', 'writing', 'queries', 'to', 'extract', 'data', 'from', 'mysql', 'and', 'managing', 'the', 'instance\\xe5\\xca\\xe5\\xcaqualifications\\xe5\\xca\\x89\\xdb\\xa2', 'bachelors', 'or', 'master', \"'s\", 'degree', 'in', 'computer', 'science', 'from', 'a', 'leading', 'university.\\xe5\\xca\\x89\\xdb\\xa2', '7+', 'years', 'of', 'experience', 'in', 'web', 'application', 'development', 'with', '3+', 'years', 'of', 'experience', 'in', 'drupal', 'application', 'development\\xe5\\xca\\x89\\xdb\\xa2', 'deep', 'understanding', 'of', 'drupal', 'concepts', ',', 'module', 'development', ',', 'best', 'practices', ',', 'and', 'coding', 'standards', 'especially', 'drupal', '7\\xe5\\xca\\x89\\xdb\\xa2', 'hands', 'on', 'experience', 'with', 'drupal', 'performance', 'tuning\\xe5\\xca\\x89\\xdb\\xa2', 'advanced', 'skills', 'in', 'php5', ',', 'mysql', 'and', 'html/css/ajax/javascript\\xe5\\xca\\x89\\xdb\\xa2', 'experience', 'with', 'object-oriented', 'design\\xe5\\xca\\x89\\xdb\\xa2', 'experience', 'with', 'standard', 'and', 'custom', 'search', 'solutions', 'in', 'drupal\\xe5\\xca\\x89\\xdb\\xa2', 'experience', 'with', 'content', 'migration', 'to', 'environments\\xe5\\xca\\x89\\xdb\\xa2', 'working', 'knowledge', 'of', 'apache', 'web', 'server', ',', 'web', 'services', 'and', 'databases\\xe5\\xca\\x89\\xdb\\xa2', 'experience', 'configuring', 'environments', 'and', 'working', 'with', 'hosting', 'providers.\\xe5\\xca\\x89\\xdb\\xa2', 'experience', 'with', 'setting', 'up', 'and', 'maintaining', 'apache', 'solr', 'search', 'on', 'linux', 'machines\\xe5\\xca\\x89\\xdb\\xa2', 'experience', 'with', 'acquia', 'desired\\xe5\\xca\\x89\\xdb\\xa2', 'experience', 'with', 'source/version', 'control', 'systems', '.', 'experience', 'with', 'git', 'desired\\xe5\\xca\\x89\\xdb\\xa2', 'excellent', 'verbal/written', 'communication', 'skills', ',', 'time', 'management', 'and', 'analytical/problem', 'solving', 'abilities\\x89\\xdb\\xa2', 'team', 'player', 'with', 'ability', 'to', 'be', 'hands-on', '&', 'get', 'knee-deep', 'in', 'code\\xe5\\xca\\x89\\xdb\\xa2', 'strong', 'software', 'engineering', 'expertise', ',', 'continuous', 'integration', '&', 'architecting', 'solutions', 'with', 'performance', 'in', 'mind.\\xe5\\xca\\x89\\xdb\\xa2', 'experience', 'optimizing', 'the', 'performance', 'and', 'scalability', 'of', 'enterprise', 'drupal', 'applications.\\xe5\\xcaapply', ':', 'interested', 'candidates', 'shall', 'submit', 'thier', 'latest', 'word', 'formatted', 'resume', 'with', 'best', 'contact', 'number', 'to', 'sureshs', '@', 'tranzeal.com\\xe5\\xcathanks', '&', 'regards', ',', 'venkata', 'suresh\\xe5\\xca|', 'resource', 'manager', 'phone', ':', '+1\\xe5\\xca408.884.0357\\xe5\\xca\\xe5\\xcatranzeal\\xe5\\xcaincorporated1754', 'technology', 'drive', '.', 'suite', '126', '|', 'san', 'jose', ',', 'ca', '95110\\xe5\\xca'], 11)\n",
      "('4', 'Software Developer')\n",
      "------------------\n",
      "TaggedDocument(['minimum', 'required', 'skills', ':', 'c', '#', ',', 'asp.net', ',', 'sql', ',', 'javascript', ',', 'mvcif', 'you', 'are', 'a', '.net', 'developer', 'with', 'experience', ',', 'please', 'read', 'on', '!', 'what', 'you', 'will', 'be', 'doingyou', \"'ll\", 'be', 'an', 'all-hands-on-deck', ',', 'whatever-it-takes', 'contributor', 'to', 'all', 'levels', 'of', 'our', 'software', 'design', '.', 'you', \"'ll\", 'interface', 'directly', 'with', 'senior', 'managers', '(', 'ctos', 'and', 'development', 'managers', ')', 'at', 'our', 'clients', 'to', 'understand', 'specifications', '.', 'you', \"'ll\", 'work', 'on', 'feature', 'development', ',', 'testing', ',', 'bug', 'fixing', ',', 'maintenance', ',', 'and', 'support', '.', 'you', 'will', 'have', 'the', 'opportunity', 'to', 'work', 'on', 'all', 'aspects', 'of', 'our', 'technology', 'pipeline', ',', 'from', 'black-box', 'algorithms', 'to', 'real-time', 'visual', 'analytics', ',', 'from', 'server', 'and', 'ui', 'coding', 'to', 'our', 'messaging', 'architecture', 'and', 'even', 'general', 'project', 'management.what', 'you', 'need', 'for', 'this', 'position1', '.', 'ba', 'or', 'bs', 'in', 'computer', 'science', 'or', 'related', 'field2', '.', 'at', 'least', '3', 'years', 'of', 'experience', 'in', 'c', '#', '.net', ',', 'sql3', '.', 'excellent', 'business', 'communication', 'and', 'interpersonal', 'skills', ',', 'and', 'an', 'ability', 'to', 'communicate', 'with', 'both', 'technical', 'and', 'non-technical', 'staff4', '.', 'demonstrated', 'analysis/assessment', 'capabilities5', '.', 'an', 'affinity', 'for', 'well', 'architected', 'solutions', 'and', 'a', 'passion', 'for', 'high', 'standards', 'of', 'quality6', '.', 'superb', 'planning', '&', 'organization', 'skills7', '.', 'ability', 'to', 'make', 'independent', ',', 'reliable', 'decisions8', '.', 'a', 'superior', 'work', 'ethic', ',', 'self-starterwhat', \"'s\", 'in', 'it', 'for', 'you-', 'vacation/pto-', 'medical-', 'dental-', 'vision-', 'bonus-', '401', '(', 'k', ')', '*****if', 'you', 'would', 'like', 'to', 'apply', 'directly', ',', 'please', 'send', 'your', 'resume', 'to', 'paul.madden', '@', 'cybercoders.com*****so', ',', 'if', 'you', 'are', 'a', '.net', 'developer', 'with', 'experience', ',', 'please', 'apply', 'today', '!', 'applicants', 'must', 'be', 'authorized', 'to', 'work', 'in', 'the', 'u.s.please', 'apply', 'directly', 'to', 'by', 'clicking', \"'click\", 'here', 'to', 'apply', \"'\", 'with', 'your', 'word', 'resume', '!', 'looking', 'forward', 'to', 'receiving', 'your', 'resume', 'and', 'going', 'over', 'the', 'position', 'in', 'more', 'detail', 'with', 'you.-', 'not', 'a', 'fit', 'for', 'this', 'position', '?', 'click', 'the', 'link', 'at', 'the', 'bottom', 'of', 'this', 'email', 'to', 'search', 'all', 'of', 'our', 'open', 'positions.looking', 'forward', 'to', 'receiving', 'your', 'resume', '!', 'cybercoderscybercoders', ',', 'inc', 'is', 'proud', 'to', 'be', 'an', 'equal', 'opportunity', 'employerall', 'qualified', 'applicants', 'will', 'receive', 'consideration', 'for', 'employment', 'without', 'regard', 'to', 'race', ',', 'color', ',', 'religion', ',', 'sex', ',', 'national', 'origin', ',', 'disability', ',', 'protected', 'veteran', 'status', ',', 'or', 'any', 'other', 'characteristic', 'protected', 'by', 'law.your', 'right', 'to', 'work', '-', 'in', 'compliance', 'with', 'federal', 'law', ',', 'all', 'persons', 'hired', 'will', 'be', 'required', 'to', 'verify', 'identity', 'and', 'eligibility', 'to', 'work', 'in', 'the', 'united', 'states', 'and', 'to', 'complete', 'the', 'required', 'employment', 'eligibility', 'verification', 'document', 'form', 'upon', 'hire.copyright', '\\xe5\\xa9', '1999', '-', '2016', '.', 'cybercoders', ',', 'inc.', 'all', 'rights', 'reserved', '.'], 6)\n",
      "('0', 'EDI Analyst')\n",
      "------------------\n",
      "TaggedDocument(['minimum', 'required', 'skills', ':', 'edi', ',', 'trustedlink', ',', 'as2', ',', 'vanif', 'you', 'are', 'an', 'edi', 'analyst', 'with', 'experience', ',', 'please', 'read', 'on', '!', 'we', 'are', 'a', 'strong', ',', 'long', 'standing', 'company', 'looking', 'for', 'an', 'edi', 'analyst', 'for', 'our', 'team', '.', 'you', 'must', 'have', '3+', 'years', 'of', 'edi', 'experience', 'in', 'a', 'trustedlink', 'for', 'i', 'environment', '.', 'your', 'role', 'will', 'work', 'with', 'our', 'finance', 'department', 'identifying', 'trading', 'partners', ',', 'work', 'closely', 'with', 'external', 'customers', 'and', 'be', 'the', 'edi', 'liaison', 'across', 'the', 'company', '.', 'you', 'will', 'also', 'monitor', 'as2', 'and', 'van', 'communications', ',', 'correct', 'errors', 'and', 'incoming', 'data.what', 'you', 'need', 'for', 'this', 'positionrequirements:3+', 'years', 'of', 'edi', 'experience3+', 'years', 'of', 'trustedlink', 'for', 'i', 'experience', ',', 'iseries/as400experience', 'with', 'van', 'and', 'as2', 'communicationswhat', \"'s\", 'in', 'it', 'for', 'youwe', 'offer', 'a', 'strong', 'compensation', 'package', 'and', 'benefits', '!', 'local', 'candidates', 'only', 'please.so', ',', 'if', 'you', 'are', 'an', 'edi', 'analyst', 'with', 'experience', ',', 'please', 'apply', 'today', '!', 'applicants', 'must', 'be', 'authorized', 'to', 'work', 'in', 'the', 'u.s.please', 'apply', 'directly', 'to', 'by', 'clicking', \"'click\", 'here', 'to', 'apply', \"'\", 'with', 'your', 'word', 'resume', '!', 'looking', 'forward', 'to', 'receiving', 'your', 'resume', 'and', 'going', 'over', 'the', 'position', 'in', 'more', 'detail', 'with', 'you.-', 'not', 'a', 'fit', 'for', 'this', 'position', '?', 'click', 'the', 'link', 'at', 'the', 'bottom', 'of', 'this', 'email', 'to', 'search', 'all', 'of', 'our', 'open', 'positions.looking', 'forward', 'to', 'receiving', 'your', 'resume', '!', 'cybercoderscybercoders', ',', 'inc', 'is', 'proud', 'to', 'be', 'an', 'equal', 'opportunity', 'employerall', 'qualified', 'applicants', 'will', 'receive', 'consideration', 'for', 'employment', 'without', 'regard', 'to', 'race', ',', 'color', ',', 'religion', ',', 'sex', ',', 'national', 'origin', ',', 'disability', ',', 'protected', 'veteran', 'status', ',', 'or', 'any', 'other', 'characteristic', 'protected', 'by', 'law.your', 'right', 'to', 'work', '-', 'in', 'compliance', 'with', 'federal', 'law', ',', 'all', 'persons', 'hired', 'will', 'be', 'required', 'to', 'verify', 'identity', 'and', 'eligibility', 'to', 'work', 'in', 'the', 'united', 'states', 'and', 'to', 'complete', 'the', 'required', 'employment', 'eligibility', 'verification', 'document', 'form', 'upon', 'hire.copyright', '\\xe5\\xa9', '1999', '-', '2016', '.', 'cybercoders', ',', 'inc.', 'all', 'rights', 'reserved', '.'], 2)\n",
      "('2', 'Angular developer')\n",
      "------------------\n",
      "TaggedDocument(['pmayekar', '@', 'kanandcorp.com', '512-697-8897sunnyvale', ',', 'caangular\\xe5\\xcajs\\xe5\\xcadevelopers\\xe5\\xcawith\\xe5\\xcahibernate', ',', '\\xe5\\xcaspring', ',', '\\xe5\\xcarest\\xe5\\xca'], 4)\n",
      "('3', 'Microsoft Dynamics AX, Project Manager')\n",
      "------------------\n",
      "TaggedDocument(['this', 'nationally', 'recognized', 'microsoft', 'gold', 'partner', 'recently', 'closed', 'on', '3', 'dynamics', 'ax', '2012r3', 'projects', 'in', 'the', 'toronto', 'area', '.', 'they', \"'re\", 'seeking', 'a', 'seasoned', 'ax', 'project', 'manager', ',', 'who', 'has', 'managed', 'large', 'scale', ',', 'multimillion', 'dollar', 'ax', '2012r3', 'implementations', 'within', 'a', 'manufacturing', 'environment', '.', 'if', 'you', 'are', 'seeking', 'a', 'stable', 'company', 'who', 'can', 'support', 'your', 'growth', 'and', 'development', 'around', 'managing', 'large', 'scale', 'implementations', 'that', 'just', 'might', 'the', 'right', 'role', 'for', 'you', '!', 'summary', 'of', 'position', ':', '*will', 'be', 'a', 'part', 'of', 'the', 'ax', 'consulting', 'team', 'and', 'lead', '/manage', 'a', 'team', 'of', 'microsoft', 'dynamics', 'ax', 'professionals', '.', '*will', 'assist', 'the', 'practice', 'director', 'in', 'the', 'management', 'of', 'the', 'performance', 'of', 'the', 'ax', 'practice', 'in', 'terms', 'of', 'revenue', 'and', 'billability', ';', 'assist', 'in', 'the', 'deployment', 'of', 'resource', 'to', 'drive', 'profitability', 'and', 'practice', 'growth', '.', '*work', 'with', 'other', 'team', 'members', ',', 'customers', ',', 'partners', 'and', 'sub-contractors', ',', 'and', 'sales', 'team', 'to', 'ensure', 'successful', 'customer', 'delivery', '.', '*will', 'utilize', 'problem-solving', 'skills', 'to', 'develop', 'and', 'implement', 'dynamics', 'ax', 'business', 'solutions', 'for', 'this', 'ms', 'gold', 'partner', \"'s\", 'levergable', 'customers', '.', '*responsible', 'for', 'customer', 'interactions', ',', 'understanding', 'the', 'customer', \"'s\", 'business', 'and', 'developing', 'leveragable', 'relationships', '*will', 'be', 'conversational', 'in', 'methodologies', 'used', 'in', 'the', 'ax', 'practice*proactively', 'look', 'for', 'ways', 'to', 'keep', 'all', 'time', 'productive', 'and', 'will', 'use', 'non-customer', 'time', 'for', 'management', 'tasks', ',', 'personal', 'training', 'and', 'internal', 'projects', '.', '*will', 'be', 'expected', 'to', 'coach', 'and', 'mentor', 'practice', 'team', 'members', '.', '*reports', 'to', 'the', 'director.key', 'responsibilities', ':', 'delivery', 'oversight*project', 'management', 'duties', 'on', 'complex', 'projects', 'or', 'on', 'multiple', 'projects', '(', 'define', 'service', 'objectives', 'by', 'determining', 'requirements', ',', 'develop', 'project', 'plans', ',', 'assembling', 'and', 'scheduling', 'required', 'service', 'resources', ',', 'defining', 'service', 'measurements', ',', 'manage', 'budget/actual', 'and', 'scope', 'of', 'work', ',', 'approval', 'of', 'project-related', 't', '&', 'e', ')', '*ensure', 'projects', 'are', 'forecasted', 'appropriately*cultivate', 'deep', 'product', 'experience', 'in', 'dynamics', 'ax*assist', 'in', 'refining', '``', 'best', 'practices', \"''\", 'in', 'delivery', ',', 'including', 'templates', ',', 'work', 'plans', ',', 'methodologies*enhances', 'practice', \"'s\", 'and', 'organization', \"'s\", 'reputation', 'by', 'accepting', 'ownership', 'for', 'accomplishing', 'new', 'and', 'different', 'requests', '.', '*identify', 'opportunities', 'to', 'add', 'value', 'to', 'clients', 'and', 'ms', 'gold', 'partner*resolve', 'project', ',', 'customer', 'and', 'staff', 'issues', 'independently', 'and', 'with', 'minimal', 'escalation', 'to', 'director-level*lead', 'customer', 'meetings', 'or', 'facilitated', 'strategy', 'sessions', ',', 'analyze', 'processes', 'and', 'recommend', 'improvements', ',', 'particularly', 'when', 'a', 'sme', 'is', 'required', 'beyond', 'the', 'project', 'team', 'or', 'on', 'larger', ',', 'complex', 'projectsbusiness', 'growth', '&', 'development*identify', 'and', 'support', 'the', 'closure', 'of', 'cross-selling', 'opportunities', 'with', 'existing', 'customers*ensures', 'adherence', 'to', 'policies', 'and', 'procedures', 'regarding', 'branding', 'issues', ',', 'marketing', 'standards', ',', 'and', 'customer', 'contactthis', 'client', 'offers', 'a', 'competitive', 'benefits', 'package', 'including', ':', 'health', ',', 'dental', ',', '401k', ',', 'fsa', ',', 'hra', ',', 'and', 'ltd.', 'salary', 'negotiable', 'based', 'on', 'experience', '.', 'we', 'are', 'looking', 'to', 'fill', 'this', 'position', 'asap', 'so', 'if', 'you', 'meet', 'the', 'desired', 'qualifications', 'above', 'please', 'apply', 'now', 'and', 'call', 'christopher', 'relihan', 'at', '212-731-8262.', 'send', 'resumes', 'to', 'c.relihan', '@', 'nigelfrank.com', 'nigel', 'frank', 'international', 'is', 'the', 'global', 'leader', 'for', 'microsoft', 'dynamics', 'recruitment', ',', 'advertising', 'more', 'axapta', '/', 'dynamics', 'ax', 'jobs', 'than', 'any', 'other', 'agency', '.', 'we', 'deal', 'with', 'both', 'microsoft', 'partners', '&', 'end', 'users', 'throughout', 'north', 'america', '.', 'by', 'specializing', 'solely', 'in', 'placing', 'candidates', 'in', 'the', 'microsoft', 'dynamics', 'market', 'i', 'have', 'built', 'relationships', 'with', 'most', 'of', 'the', 'key', 'employers', 'in', 'north', 'america', 'and', 'have', 'an', 'unrivalled', 'understanding', 'of', 'where', 'the', 'best', 'opportunities', 'and', 'axapta', '/', 'dynamics', 'ax', 'jobs', 'are', '.', 'i', 'understand', 'the', 'need', 'for', 'discretion', 'and', 'would', 'welcome', 'the', 'opportunity', 'to', 'speak', 'to', 'any', 'microsoft', 'dynamics', 'ax', '/', 'axapta', 'candidates', 'that', 'are', 'considering', 'a', 'new', 'career', 'or', 'job', 'either', 'now', 'or', 'in', 'the', 'future', '.', 'confidentiality', 'is', 'of', 'course', 'guaranteed', '.', 'for', 'information', 'on', 'the', 'microsoft', 'dynamics', 'market', 'and', 'some', 'of', 'the', 'opportunities', 'and', 'dynamics', 'ax', '/', 'axapta', 'jobs', 'that', 'are', 'available', 'i', 'can', 'be', 'contacted', 'on', '1-212-731-8282.', 'please', 'see', 'www.nigelfrank.com', 'for', 'more', 'fantastic', 'microsoft', 'dynamics', 'opportunities', '!', 'nigel', 'frank', 'international', 'inc.', 'is', 'acting', 'as', 'an', 'employment', 'agency', 'in', 'relation', 'to', 'this', 'vacancy', '.'], 5)\n",
      "('5', 'Machine Learning Engineer')\n",
      "------------------\n",
      "TaggedDocument(['minimum', 'required', 'skills', ':', 'machine', 'learning', ',', 'java/', 'scala', ',', 'spark', ',', 'predictive', 'modeling', ',', 'industrial', 'iot', 'analytics', ',', 'data', 'visualization', ',', 'natural', 'language', 'processing', '(', 'nlp', ')', ',', 'python', ',', 'deep', 'learningif', 'you', 'are', 'a', 'machine', 'learning', 'engineer', 'with', 'experience', ',', 'please', 'read', 'on', '!', 'job', 'title', ':', 'machine', 'learning', 'engineer', '(', 'data', 'scientist', ')', 'location', ':', 'relocate', 'to', 'detroit', ',', 'mi', 'salary', ':', '$', '110-160kthe', 'company', ':', 'we', 'use', 'our', 'services', 'to', 'digitally', 'transform', 'businesses', 'in', 'the', 'areas', 'of', 'predictive', 'maintenance', ',', 'product/content', 'recommendations', ',', 'and', 'fraud', 'predictions', '.', 'our', 'platform', 'is', 'revolutionizing', 'the', 'way', 'enterprises', 'use', 'data', 'analytics', 'by', 'providing', 'a', 'fast', 'scalable', 'automated', 'platform', '.', 'we', 'look', 'for', 'the', 'best', 'and', 'brightest', 'and', 'you', 'could', 'be', 'the', 'next', 'data', 'scientist', 'we', 'add', 'to', 'our', 'team', '!', '!', 'top', 'reasons', 'to', 'work', 'with', 'us1', '.', 'be', 'a', 'part', 'of', 'an', 'award-winning', 'cognitive', 'data', 'science', 'platform', 'to', 'build', 'revolutionary', 'data', 'products', 'for', 'predictions', 'and', 'recommendations', '!', '2', '.', 'a', 'well-funded', 'start-up', 'where', 'you', 'play', 'an', 'integral', 'part', 'in', 'the', 'company', 'and', 'be', 'in', 'a', 'leadership', 'role3', '.', 'health', 'and', 'medical', 'benefitswhat', 'you', 'will', 'be', 'doing-conduct', 'research', 'on', 'meta', 'learning', 'and', 'machine', 'learning', 'algorithms', 'for', 'enhancing', 'the', 'automated', 'data', 'science', 'technology', 'to', 'deliver', 'highly', 'relevant', 'insights', 'from', 'data', 'in', 'an', 'automated', 'way.-apply', 'meta', 'learning', 'and', 'distributed', 'computing', 'for', 'building', 'large', 'scale', 'solutions', 'for', 'solving', 'problems', 'in', 'predictive', 'analytics', 'and', 'recommendation.interact', 'with', 'clients', 'to', 'understand', 'requirements', ',', 'implement', 'and', 'present', 'results.coordinate', 'and', 'collaborate', 'with', 'cross-functional', 'teams', 'including', 'product', 'management', ',', 'customer', 'support', '&', 'operations', ',', 'sales', ',', 'marketing', 'and', 'management.-be', 'a', 'thought', 'leader', 'and', 'technology', 'evangelist', 'and', 'collaborate', 'with', 'marketing', 'to', 'promote', 'our', 'technology', 'leadership', 'in', 'creative', 'ways', 'in', 'online', 'and', 'offline', 'channels.what', 'you', 'need', 'for', 'this', 'positionrequirements', ':', 'bachelors', 'in', 'computer', 'science', 'or', 'equivalent-', 'preferred', 'masters', 'or', 'phd', 'in', 'machine', 'learning', ',', 'data', 'analytics', ',', 'big', 'data', 'or', 'similar', '5+', 'years', 'of', 'research', 'experience', 'and', '1+', 'year', 'expereince', 'in', 'the', 'following', '-', 'machine', 'learning/', 'ai/', 'deep', 'learning', 'or', 'nlp', '-', 'spark', ',', 'sparl', 'ml', ',', 'or', 'spark', 'mlilb-java/', 'scala-', 'predictive', 'modeling-', 'data', 'streaming-', 'clustering', 'pluses', ':', '-big', 'data', 'analytics-', 'hadoop', ',', 'mahout', ',', 'lucene', ',', 'solr', ',', 'elasticsearch-experience', 'with', 'interacting', 'with', 'customers', 'in', 'iot', ',', 'manufacturing', ',', 'telecom', ',', 'or', 'financial', 'services-data', 'visualizationwhat', \"'s\", 'in', 'it', 'for', 'you-', 'competitive', 'salary-', 'great', 'work', 'environment-', 'immediate', 'hireif', 'you', 'are', 'an', 'experienced', 'machine', 'learning', 'engineer', ',', 'please', 'apply', 'today', '!', 'or', 'simply', 'send', 'your', 'resume', 'to', ':', 'amanda.wilson', '@', 'cybercoders.comapplicants', 'must', 'be', 'authorized', 'to', 'work', 'in', 'the', 'u.s.please', 'apply', 'directly', 'to', 'by', 'clicking', \"'click\", 'here', 'to', 'apply', \"'\", 'with', 'your', 'word', 'resume', '!', 'looking', 'forward', 'to', 'receiving', 'your', 'resume', 'and', 'going', 'over', 'the', 'position', 'in', 'more', 'detail', 'with', 'you.-', 'not', 'a', 'fit', 'for', 'this', 'position', '?', 'click', 'the', 'link', 'at', 'the', 'bottom', 'of', 'this', 'email', 'to', 'search', 'all', 'of', 'our', 'open', 'positions.looking', 'forward', 'to', 'receiving', 'your', 'resume', '!', 'cybercoderscybercoders', ',', 'inc', 'is', 'proud', 'to', 'be', 'an', 'equal', 'opportunity', 'employerall', 'qualified', 'applicants', 'will', 'receive', 'consideration', 'for', 'employment', 'without', 'regard', 'to', 'race', ',', 'color', ',', 'religion', ',', 'sex', ',', 'national', 'origin', ',', 'disability', ',', 'protected', 'veteran', 'status', ',', 'or', 'any', 'other', 'characteristic', 'protected', 'by', 'law.your', 'right', 'to', 'work', '-', 'in', 'compliance', 'with', 'federal', 'law', ',', 'all', 'persons', 'hired', 'will', 'be', 'required', 'to', 'verify', 'identity', 'and', 'eligibility', 'to', 'work', 'in', 'the', 'united', 'states', 'and', 'to', 'complete', 'the', 'required', 'employment', 'eligibility', 'verification', 'document', 'form', 'upon', 'hire.copyright', '\\xe5\\xa9', '1999', '-', '2016', '.', 'cybercoders', ',', 'inc.', 'all', 'rights', 'reserved', '.'], 7)\n",
      "('8', 'Commission Analyst')\n",
      "------------------\n",
      "TaggedDocument(['varite', 'is', 'looking', 'for', 'senior', 'commission', 'analyst', 'in', 'sunnyvale', ',', 'ca', 'for', 'one', 'of', 'its', 'client.here', 'are', 'the', 'job', 'details', ':', 'title', ':', 'senior', 'commission', 'analystduration', ':', '06+', 'months', 'contract', 'location', ':', 'sunnyvale', ',', 'cajob', 'summary', ':', 'this', 'position', 'is', 'responsible', 'for', 'managing', 'commission', 'payment', 'related', 'activities', 'for', 'netapp\\x89\\xdb\\xaas', 'geography.\\xe5\\xca', 'the', 'commission', 'analyst', 'will', 'provide', 'daily', 'operational', 'support', 'for', 'administering', 'the', 'commission', 'processing', 'activities.\\xe5\\xca', 'this', 'includes', 'partnering', 'closely', 'with', 'other', 'departments', 'in', 'support', 'of', 'the', 'monthly', 'commission', 'pay', 'process', ',', 'successful', 'generation', 'of', 'payfiles', ',', 'reconciling', 'commissions', 'and', 'management', 'of', 'commission', 'statements.\\xe5\\xca', 'this', 'position', 'will', 'report', 'directly', 'into', 'the', 'senior', 'manager', ',', 'global', 'commission', 'accounting.\\xe5\\xcarequirements', ':', 'essential', 'job', 'functions', ':', 'commission', 'accounting', 'payfile', 'generation', 'lead', 'for', 'all', 'geosperform', 'analyses', ',', 'reconciliations', ',', 'sox', 'compliance', 'activities', ',', 'and', 'ad', 'hoc', 'reporting', 'as', 'directedsox', 'activities', 'include', 'random', 'manual', 'calculations', 'to', 'validate', 'commission', 'system', 'results', ',', '\\xe5\\xcapayee', 'reconciliation', ',', 'and', 'performing', 'other', 'control', 'related', 'tasksreconciliations', 'include', 'commission', 'extract', 'processing', ',', 'commission', 'detail', 'reports', 'and', 'payfile', 'checklistsad', 'hoc', 'reporting', 'also', 'includes', 'research', 'and', 'analysis', 'of', 'discrepancies', ',', 'including', 'monthly', 'deficits', ',', 'to', 'support', 'business', 'related', 'inquiries\\xe5\\xcadocument', 'current', 'and', 'ongoing', 'commission', 'accounting', 'processes', ',', 'policies', 'and', 'procedures', ',', 'and', 'technological', 'developments', ';', 'understand', 'data', 'flow', ',', 'system', 'architecture', 'and', 'make', 'recommendation', 'for', 'changes', ',', 'upgrades', ',', 'reconfigurations', ',', 'and', 'adoption', 'of', 'new', 'technologiesutilize', 'the', 'truecomp', 'manager', 'application', 'to', 'research', 'participants', 'setups', ',', 'payment', 'history', ',', 'hierarchies', ',', 'and', 'other', 'commission', 'related', 'informationserve', 'as', 'a', 'subject', 'matter', 'expert', 'in', 'various', 'commission', 'accounting', 'processes', ',', 'including', 'selected', 'upstream', 'processesprovide', 'analytical', 'expertise', 'in', 'the', 'commission', 'processes', 'and', 'systems', ',', 'working', 'with', 'team', 'to', 'identify', 'opportunities', 'for', 'improvementsparticipate', 'and', 'support', 'uat', 'activitiescollaborate', 'with', 'business', 'groups', 'across', 'the', 'pay', 'cycle', 'process', ',', 'including', 'worldwide', 'sales', 'compensation', ',', 'geo', 'compensation', 'and', 'payroll\\xe5\\xcaessential', 'job', 'qualifications', ':', 'education', ':', '\\xe5\\xcauniversity', 'bachelor', \"'s\", 'degree', 'in', 'finance', 'preferred', ',', 'or', 'equivalent', 'relevant', 'experienceexperience', ':', '\\xe5\\xcaexperience', 'in', 'callidus', 'truecomp', 'and', 'different', 'modules', 'preferred.\\xe5\\xcadesired', '5+', 'years\\x89\\xdb\\xaa', 'experience', 'with', 'payfile', 'generation', '/', 'variable', 'compensation', 'management\\xe5\\xcarequired', 'skills', ':', 'highly', 'skilled', 'in', 'the', 'use', 'of', 'microsoft', 'office', 'suite', '(', 'particularly', ',', 'excel', ',', 'access', 'and', 'outlook', ')', ',', 'oracle', '(', '11.5.9', ')', ',', 'sql', ',', 'db2exceptional', 'attention', 'to', 'detail', ',', 'a', 'good', 'problem', 'solver', 'who', 'is', 'organized', ',', 'flexible', ',', 'self-directed', 'and', 'possesses', 'excellent', 'written', 'and', 'verbal', 'communication', 'skills\\xe5\\xcaexceptional', 'ability', 'to', 'follow', 'procedures', 'and', 'adhere', '/', 'perpetuate', 'departmental', 'policiesability', 'to', 'communicate', 'effectively', 'and', 'work', 'cooperatively', 'with', 'staff', 'at', 'all', 'levels', 'of', 'the', 'organization', ',', 'including', 'internal', 'and', 'cross-departmental', 'teams', ',', 'consistently', 'displaying', 'a', 'high', 'level', 'of', 'professionalismmust', 'possess', 'the', 'ability', 'to', 'work', 'with', 'confidential', 'reports', 'and', 'information', 'with', 'complete', 'discretionkeywords', ':', '\\xe5\\xcacommission', 'analyst', ',', 'sales', 'commission', 'analyst', ',', 'compensation', 'analyst', ',', 'financial', 'analyst', ',', 'xactly', ',', 'tuecomp', ',', 'callidus', ',', 'commission', 'analyst', ',', 'sales', 'commission', 'analyst', ',', 'compensation', 'analyst', ',', 'financial', 'analyst.about', 'varitevarite', 'is', 'a', 'global', 'it', 'company', 'providing', 'software', 'consulting', 'and', 'staffing', 'services', 'to', 'fortune', '1000', 'companies', 'in', 'usa', ',', 'canada', 'and', 'india', '.', 'varite', 'is', 'currently', 'a', 'primary', 'and', 'direct', 'vendors', 'to', 'the', 'leading', 'corporations', 'in', 'the', 'areas', 'of', 'networking', ',', 'infrastructure', 'application', 'software', ',', 'semiconductor', ',', 'eai', ',', 'portal', 'technologies', ',', 'erp', ',', 'wireless', 'service', 'providers', ',', 'lending', '-', 'mortgage', 'and', 'financial', 'services.\\xe5\\xca'], 10)\n",
      "('7', 'Linux System Administrator')\n",
      "------------------\n",
      "TaggedDocument(['linux', 'system', 'administrator', 'opportunity-', 'with', 'investment', 'firmduties-', 'to', 'make', 'sure', 'red', 'hat', '/', 'centos', 'linux', 'servers', 'are', 'stable', ',', 'safe', ',', 'and', 'efficient.\\xe5\\xca\\xe5\\xca\\xe5\\xca', 'configure', 'and', 'monitor', 'data', 'center', 'operations', 'across', 'multiple', 'geographic', 'locations.\\xe5\\xca\\xe5\\xca\\xe5\\xca', 'plan', ',', 'install', ',', 'and', 'administer', 'a', 'disaster', 'recovery', 'system', 'for', 'our', 'linux', 'environment.\\xe5\\xca\\xe5\\xca\\xe5\\xca', 'troubleshoot', 'server', 'problems', 'with', 'researchers', 'and', 'traders.\\xe5\\xca\\xe5\\xca\\xe5\\xca', 'design', 'and', 'implement', 'information', 'security', 'systems.\\xe5\\xca\\xe5\\xca\\xe5\\xca', 'create', 'robust', 'backup', 'processes', 'for', 'linux', 'systems.\\xe5\\xca\\xe5\\xca\\xe5\\xca', 'concisely', 'document', 'the', 'firm', \"'s\", 'infrastructure.\\xe5\\xca\\xe5\\xca\\xe5\\xca', 'linux', 'systems', '-desire', 'to', 'build', 'a', 'robust', 'and', 'scalable', 'infrastructure.\\xe5\\xca\\xe5\\xca\\xe5\\xca\\xe5\\xca', 'administrative', 'experience', 'with', 'linux', '(', 'redhat', '4+', ',', 'centos', ')', '.\\xe5\\xca\\xe5\\xca\\xe5\\xca\\xe5\\xca', 'experience', 'in', 'bash', 'shell', 'scripting.\\xe5\\xca\\xe5\\xca\\xe5\\xca', 'database', 'experience', '\\xe5\\xca'], 9)\n",
      "('6', 'Core Java Developer')\n",
      "------------------\n",
      "TaggedDocument(['hatstand', ',', 'a', 'global', 'financial', 'consultancy', ',', 'is', 'seeking', 'a', 'jr.', 'to', 'associate', 'level', 'java', 'developer', 'with', '2', '\\x89\\xdb\\xd2', '4+', 'years', 'of', 'practical', 'experience.this\\xe5\\xcaopportunity\\xe5\\xcais', 'part', 'of', 'the', 'hatstand', 'green', 'beret', 'programme', ',', 'our', 'unique', 'talent', 'development', 'programme', 'which', 'arms', 'talented', 'recent', 'graduates\\xe5\\xcaand', 'associate', 'level', 'jr.', 'developers', 'with', 'some', 'experience', ';', '\\xe5\\xcathe', 'skills', 'and', 'experience', 'necessary', 'to', 'craft', 'a', 'career', 'in', 'the', 'financial', 'sector.\\xe5\\xcaprimary', 'responsibilities', 'of', 'hands-on', 'programming', 'and', 'analysis', ',', 'participating', 'in', 'the', 'development', 'and', 'design', 'of', 'the', 'existing', 'and', 'future', 'applications', 'within', 'a', 'range', 'of', 'mixed', 'assets.\\xe5\\xcaessential', 'responsibilities\\xe5\\xcabeing', 'involved', 'in', 'the', 'full', 'software', 'development', 'cycle', ':', 'analysis/design', ',', 'coding', ',', 'testing', 'and', 'release', 'for', 'risk', 'application', 'and', 'platform', 'services', ',', 'with', 'primary', 'focus', 'on', 'java.focus', 'on', 'simplifying', 'implementation', ',', 'standardizing', 'usability', 'and', 'promoting', 'code', 'and', 'library', 'reuse', 'with', 'the', 'aim', 'of', 'raising', 'efficiency', 'levels', 'of', 'the', 'team.contributing', 'to', 'the', 'design', 'and', 'evolution', 'of', 'the', 'system', '(', 's', ')', 'by', 'participating', 'in', 'the', 'architecture', 'and', 'technical', 'discussions', 'with', 'the', 'teamability', 'to', 'work', 'under', 'minimal', 'supervision', 'to', 'design', 'and', 'implement', 'the', 'required', 'functionality/bug', 'fixes/enhancements', 'within', 'allotted', 'timescalesproviding', 'third', 'line', 'support', 'to', 'the', 'application', \"'s\", 'global', 'user', 'community', ',', 'which', 'will', 'include', 'assisting', 'dedicated', 'support', 'staff', 'and', 'liaising', 'with', 'the', 'members', 'of', 'other', 'development', 'teams', 'directly.\\xe5\\xcaessential', 'requirementsdegree', 'in', 'computer', 'science', ',', 'math', ',', 'physics', ',', 'engineering', 'or', 'a', 'related', 'field.minimum', '0', '-\\xe5\\xca3', 'years', 'hands-on', 'java', 'programming', 'experience', 'and', 'strong', 'analytical', 'skillsminimum', 'of', '0', '-\\xe5\\xca3', 'years\\x89\\xdb\\xaa', 'experience', 'of', 'full', 'software', 'development', 'cycle', ':', 'analysis/design', ',', 'coding', ',', 'testing', 'and', 'release', 'for', 'applications', 'and', 'platform', 'services', ',', 'with', 'primary', 'focus', 'on', 'java.\\xe5\\xca', 'academic', 'and', 'professional', 'experience', 'will', 'be', 'considered.database', 'experience', ',', 'preferably', 'oracle', 'and', 'basic', 'sql', 'skills.agile', 'knowledge', 'and', 'exposure', 'in', 'an', 'academic', 'or', 'professional', 'context\\xe5\\xcahatstand', '\\x89\\xdb\\xd2', 'a', 'synechron', 'company', 'is', 'a', 'global', 'financial', 'consultancy', 'and', 'capital', 'markets', 'specialist.\\xe5\\xca\\xe5\\xcawe', 'operate', 'in', 'three', 'key', 'areas', 'of', 'financial', 'markets', ':', '\\xe5\\xcatrading', '-', 'systems', '&', 'connectivity', ',', 'data', 'management', 'and', 'regulation', '&', 'risk', '.', '\\xe5\\xca\\xe5\\xcaas', 'a', 'software', 'enabling', 'solutions', 'provider', ',', 'we', 'work', 'closely', 'with', 'our', 'clients', 'to', 'deliver', 'flexible', ',', 'bespoke', 'solutions', 'that', 'address', 'the', 'diverse', 'challenges', 'of', 'the', 'financial', 'technology', 'environment.\\xe5\\xcaour', 'international', 'reach', 'allows', 'us', 'to', 'successfully', 'execute', 'projects', 'and', 'managed', 'services', 'across', 'the', 'globe', ',', 'with', 'offices', 'in', 'london', ',', 'geneva', ',', 'dubai', ',', 'new', 'york', ',', 'hong', 'kong', ',', 'singapore', 'and', 'sydney.\\xe5\\xca'], 8)\n"
     ]
    }
   ],
   "source": [
    "for y in range(0,len(similar_doc)):\n",
    "    x = similar_doc[y][0]\n",
    "    print(x,job_title[int(x)])\n",
    "    print(\"------------------\")\n",
    "    print(tagged_data[int(x)])"
   ]
  },
  {
   "cell_type": "code",
   "execution_count": 31,
   "metadata": {},
   "outputs": [],
   "source": [
    "import tensorflow as tf\n",
    "from tensorflow.contrib.tensorboard.plugins import projector\n",
    "import numpy as np"
   ]
  },
  {
   "cell_type": "code",
   "execution_count": 32,
   "metadata": {},
   "outputs": [
    {
     "name": "stdout",
     "output_type": "stream",
     "text": [
      "4997\n"
     ]
    }
   ],
   "source": [
    "max_size = len(model_title.wv.vocab)-1\n",
    "print(max_size)"
   ]
  },
  {
   "cell_type": "code",
   "execution_count": 33,
   "metadata": {},
   "outputs": [],
   "source": [
    "w2v = np.zeros((max_size,model_title.layer1_size))"
   ]
  },
  {
   "cell_type": "code",
   "execution_count": 34,
   "metadata": {},
   "outputs": [
    {
     "data": {
      "text/plain": [
       "array([[0., 0., 0., ..., 0., 0., 0.],\n",
       "       [0., 0., 0., ..., 0., 0., 0.],\n",
       "       [0., 0., 0., ..., 0., 0., 0.],\n",
       "       ...,\n",
       "       [0., 0., 0., ..., 0., 0., 0.],\n",
       "       [0., 0., 0., ..., 0., 0., 0.],\n",
       "       [0., 0., 0., ..., 0., 0., 0.]])"
      ]
     },
     "execution_count": 34,
     "metadata": {},
     "output_type": "execute_result"
    }
   ],
   "source": [
    "w2v"
   ]
  },
  {
   "cell_type": "code",
   "execution_count": 35,
   "metadata": {},
   "outputs": [
    {
     "name": "stdout",
     "output_type": "stream",
     "text": [
      "WARNING:tensorflow:From /home/ec2-user/anaconda3/envs/tensorflow_p27/lib/python2.7/site-packages/tensorflow/python/framework/op_def_library.py:263: colocate_with (from tensorflow.python.framework.ops) is deprecated and will be removed in a future version.\n",
      "Instructions for updating:\n",
      "Colocations handled automatically by placer.\n"
     ]
    }
   ],
   "source": [
    "import sys\n",
    "reload(sys)\n",
    "sys.setdefaultencoding('utf8')"
   ]
  },
  {
   "cell_type": "code",
   "execution_count": 36,
   "metadata": {},
   "outputs": [],
   "source": [
    "with open(\"tensorboard/metadata_title.tsv\", 'w+') as file_metadata:\n",
    "    for i,word in enumerate(model_title.wv.index2word[:max_size]):\n",
    "        w2v[i] = model_title.wv[word]\n",
    "        file_metadata.write(word + '\\n')"
   ]
  },
  {
   "cell_type": "code",
   "execution_count": 37,
   "metadata": {},
   "outputs": [
    {
     "data": {
      "text/plain": [
       "array([[-0.38269904, -1.00214624, -1.8769027 , ..., -1.4798702 ,\n",
       "         0.09077263,  2.15739274],\n",
       "       [-0.45277217, -0.96154869, -0.54966146, ..., -0.55106485,\n",
       "         0.36490372,  2.55053949],\n",
       "       [ 0.41533512, -1.80012918, -0.1623417 , ..., -1.25917733,\n",
       "        -0.87699896,  0.58728415],\n",
       "       ...,\n",
       "       [ 0.33657107,  2.29697919, -0.50715035, ...,  2.20343852,\n",
       "        -0.72758758, -0.28719333],\n",
       "       [ 0.358253  ,  0.07007989,  0.12278633, ...,  0.60200495,\n",
       "         0.64050984, -0.52660096],\n",
       "       [ 0.72419178,  0.46911055,  0.40753511, ...,  0.13750298,\n",
       "         0.76264501, -0.20844185]])"
      ]
     },
     "execution_count": 37,
     "metadata": {},
     "output_type": "execute_result"
    }
   ],
   "source": [
    "w2v"
   ]
  },
  {
   "cell_type": "code",
   "execution_count": 38,
   "metadata": {},
   "outputs": [],
   "source": [
    "sess = tf.InteractiveSession()"
   ]
  },
  {
   "cell_type": "code",
   "execution_count": 39,
   "metadata": {},
   "outputs": [],
   "source": [
    "#Let us create a 2D tensor called embedding that holds our embeddings.\n",
    "with tf.device(\"/cpu:0\"):\n",
    "    embedding = tf.Variable(w2v, trainable=False, name='embedding')"
   ]
  },
  {
   "cell_type": "code",
   "execution_count": 40,
   "metadata": {},
   "outputs": [],
   "source": [
    "tf.global_variables_initializer().run()"
   ]
  },
  {
   "cell_type": "code",
   "execution_count": 41,
   "metadata": {},
   "outputs": [],
   "source": [
    "path = 'tensorboard'"
   ]
  },
  {
   "cell_type": "code",
   "execution_count": 42,
   "metadata": {},
   "outputs": [],
   "source": [
    "\n",
    "# let us create an object to Saver class which is actually used to # let us \n",
    "#save and restore variables to and from our checkpoints\n",
    "saver = tf.train.Saver()"
   ]
  },
  {
   "cell_type": "code",
   "execution_count": 43,
   "metadata": {},
   "outputs": [],
   "source": [
    "# using file writer, we can save our summaries and events to our event file.\n",
    "writer = tf.summary.FileWriter(path, sess.graph)"
   ]
  },
  {
   "cell_type": "code",
   "execution_count": 44,
   "metadata": {},
   "outputs": [],
   "source": [
    "# adding into projector\n",
    "config = projector.ProjectorConfig()\n",
    "embed = config.embeddings.add()\n",
    "embed.tensor_name = 'embedding'\n",
    "embed.metadata_path = 'metadata_title.tsv'"
   ]
  },
  {
   "cell_type": "code",
   "execution_count": 45,
   "metadata": {},
   "outputs": [
    {
     "data": {
      "text/plain": [
       "'tensorboard/model_title.ckpt-4997'"
      ]
     },
     "execution_count": 45,
     "metadata": {},
     "output_type": "execute_result"
    }
   ],
   "source": [
    "# Specify the width and height of a single thumbnail.\n",
    "projector.visualize_embeddings(writer, config)\n",
    "\n",
    "saver.save(sess, path+'/model_title.ckpt', global_step=max_size)"
   ]
  },
  {
   "cell_type": "code",
   "execution_count": null,
   "metadata": {},
   "outputs": [],
   "source": [
    "!tensorboard --logdir=\"tensorboard\" --port 6006 --host=0.0.0.0"
   ]
  },
  {
   "cell_type": "code",
   "execution_count": null,
   "metadata": {},
   "outputs": [],
   "source": []
  }
 ],
 "metadata": {
  "kernelspec": {
   "display_name": "conda_tensorflow_p27",
   "language": "python",
   "name": "conda_tensorflow_p27"
  },
  "language_info": {
   "codemirror_mode": {
    "name": "ipython",
    "version": 2
   },
   "file_extension": ".py",
   "mimetype": "text/x-python",
   "name": "python",
   "nbconvert_exporter": "python",
   "pygments_lexer": "ipython2",
   "version": "2.7.15"
  }
 },
 "nbformat": 4,
 "nbformat_minor": 2
}
